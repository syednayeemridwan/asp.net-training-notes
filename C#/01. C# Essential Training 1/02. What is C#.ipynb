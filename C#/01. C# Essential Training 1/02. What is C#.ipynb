{
 "cells": [
  {
   "cell_type": "markdown",
   "metadata": {},
   "source": [
    "# Scope of C-Sharp"
   ]
  },
  {
   "cell_type": "markdown",
   "metadata": {},
   "source": [
    "- Can be used to create Web App\n",
    "- Can be used to create Desktop App\n",
    "- Can be used to Create Mobile App\n",
    "- Can be used to Create IoT App\n",
    "- Can be used to Create Games for any Platform like Xbox, PlayStation etc.\n",
    "- Supports cross-platform integration"
   ]
  },
  {
   "cell_type": "markdown",
   "metadata": {},
   "source": [
    "# What is .NET"
   ]
  },
  {
   "cell_type": "markdown",
   "metadata": {},
   "source": [
    "- A software framework. \n",
    "- Provides standard way to build and deploy applications\n",
    "- Provides Libraries and tools\n",
    "- Consists of FCL and CLR"
   ]
  },
  {
   "cell_type": "markdown",
   "metadata": {},
   "source": [
    " ### Framework Class Library (FCL)"
   ]
  },
  {
   "cell_type": "markdown",
   "metadata": {},
   "source": [
    "- Provides means to execute codes like C#, F# , C++.NET, IronPython etc.\n",
    "- Provides services so that no need to re-invent the wheel. eg: Concurrency, Security, Working with files etc."
   ]
  },
  {
   "cell_type": "markdown",
   "metadata": {},
   "source": [
    "### Common Language Runtime (CLR)"
   ]
  },
  {
   "cell_type": "markdown",
   "metadata": {},
   "source": [
    "- Virtual Machine that provides means to run the code\n",
    "- `.NET Code > Byte Code > CLR`\n",
    "- CLR manages code. eg - Memory management, Exception handling, Security etc"
   ]
  },
  {
   "cell_type": "markdown",
   "metadata": {},
   "source": [
    "# Most Popular IDE"
   ]
  },
  {
   "cell_type": "markdown",
   "metadata": {},
   "source": [
    "- Visual Studio Community Edition"
   ]
  },
  {
   "cell_type": "markdown",
   "metadata": {},
   "source": [
    "# Creating a Console App"
   ]
  },
  {
   "cell_type": "markdown",
   "metadata": {},
   "source": [
    "`File > New > Project > Visual C# > Console App`"
   ]
  },
  {
   "cell_type": "markdown",
   "metadata": {},
   "source": [
    "# Example Code"
   ]
  },
  {
   "cell_type": "markdown",
   "metadata": {},
   "source": [
    "```\n",
    "using System;\n",
    "\n",
    "namespace SomeConsoleApp\n",
    "{\n",
    "    class Program\n",
    "    {\n",
    "        static void Main(string[] args)\n",
    "        {\n",
    "            Console.WriteLine(\"Hello World!\");\n",
    "            Console.ReadLine();\n",
    "        }\n",
    "    }\n",
    "}\n",
    "\n",
    "```"
   ]
  },
  {
   "cell_type": "markdown",
   "metadata": {},
   "source": [
    "# Tips"
   ]
  },
  {
   "cell_type": "markdown",
   "metadata": {},
   "source": [
    "- Green Code Lines mean that the lines are saved\n",
    "- Yellow Code Lines mean that the lines are not saved\n",
    "- When the program is running the bar below turns Orange\n",
    "- When the program is not running the bar below remains Blue"
   ]
  }
 ],
 "metadata": {
  "interpreter": {
   "hash": "1e949e87132dd83f1a7623eb88007e3532b03b66b77111be347aa4a383049722"
  },
  "kernelspec": {
   "display_name": "Python 3.8.11 ('env_py')",
   "language": "python",
   "name": "python3"
  },
  "language_info": {
   "codemirror_mode": {
    "name": "ipython",
    "version": 3
   },
   "file_extension": ".py",
   "mimetype": "text/x-python",
   "name": "python",
   "nbconvert_exporter": "python",
   "pygments_lexer": "ipython3",
   "version": "3.8.11"
  },
  "orig_nbformat": 4
 },
 "nbformat": 4,
 "nbformat_minor": 2
}
